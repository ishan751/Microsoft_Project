{
 "cells": [
  {
   "cell_type": "markdown",
   "metadata": {},
   "source": [
    "# Importing Libraries"
   ]
  },
  {
   "cell_type": "code",
   "execution_count": 1,
   "metadata": {},
   "outputs": [],
   "source": [
    "from selenium import webdriver\n",
    "from selenium.webdriver import Chrome\n",
    "from selenium.webdriver.common.by import By\n",
    "from selenium.webdriver.support.ui import WebDriverWait\n",
    "from selenium.webdriver.support import expected_conditions as EC\n",
    "from selenium.webdriver.common.keys import Keys\n",
    "from selenium.webdriver.chrome.options import Options\n",
    "from selenium.webdriver.chrome.service import Service\n",
    "import pandas as pd\n",
    "import numpy as np\n",
    "import time\n",
    "import sqlite3"
   ]
  },
  {
   "attachments": {},
   "cell_type": "markdown",
   "metadata": {},
   "source": [
    "## Create SQL Table \"Videos\""
   ]
  },
  {
   "cell_type": "code",
   "execution_count": 2,
   "metadata": {},
   "outputs": [],
   "source": [
    "conn = sqlite3.connect('minecraft.db')\n",
    "cursor = conn.cursor()\n",
    "cursor.execute(\"\"\"\n",
    "                CREATE TABLE IF NOT EXISTS videos\n",
    "                (\n",
    "                video_id INTEGER PRIMARY KEY ,\n",
    "                title TEXT,\n",
    "                url TEXT,\n",
    "                views INT,\n",
    "                date TEXT\n",
    "                )\n",
    "                 \"\"\")\n",
    "conn.close()"
   ]
  },
  {
   "attachments": {},
   "cell_type": "markdown",
   "metadata": {},
   "source": [
    "## Create SQL Table \"Comments\""
   ]
  },
  {
   "cell_type": "code",
   "execution_count": 3,
   "metadata": {},
   "outputs": [],
   "source": [
    "conn = sqlite3.connect('minecraft.db')\n",
    "cursor = conn.cursor()\n",
    "cursor.execute('''\n",
    "    CREATE TABLE IF NOT EXISTS comment (\n",
    "        comment_id INTEGER PRIMARY KEY,\n",
    "        comment TEXT,\n",
    "        video_id INTEGER,\n",
    "        FOREIGN KEY (video_id) REFERENCES videos(video_id)\n",
    "    )\n",
    "''')\n",
    "\n",
    "conn.close()"
   ]
  },
  {
   "cell_type": "markdown",
   "metadata": {},
   "source": [
    "# Defining Path for Driver"
   ]
  },
  {
   "cell_type": "code",
   "execution_count": 4,
   "metadata": {},
   "outputs": [],
   "source": [
    "path = \"/Users/Ishan/Documents/code/python_code/chromedriver\""
   ]
  },
  {
   "cell_type": "markdown",
   "metadata": {},
   "source": [
    "# Configuring Browser Settings"
   ]
  },
  {
   "cell_type": "code",
   "execution_count": 5,
   "metadata": {},
   "outputs": [],
   "source": [
    "chrome_options = Options()\n",
    "chrome_options.add_argument(\"--mute-audio\")\n",
    "chrome_options.add_argument(\"--headless\")\n",
    "service = Service(path)"
   ]
  },
  {
   "cell_type": "markdown",
   "metadata": {},
   "source": [
    "# Scraping Video Details of Title, Views, Age, URL"
   ]
  },
  {
   "cell_type": "code",
   "execution_count": 6,
   "metadata": {},
   "outputs": [
    {
     "name": "stderr",
     "output_type": "stream",
     "text": [
      "/var/folders/y9/q82qsl6x2n9gqqmjjm5_8m1w0000gn/T/ipykernel_8356/265230671.py:1: DeprecationWarning: executable_path has been deprecated, please pass in a Service object\n",
      "  with Chrome(service=service,executable_path=path, options= chrome_options) as driver:\n"
     ]
    }
   ],
   "source": [
    "with Chrome(service=service,executable_path=path, options= chrome_options) as driver:\n",
    "\n",
    "    # use driver to retrive the video\n",
    "    try:\n",
    "        driver.get(\"https://www.youtube.com/@minecraft/videos\")\n",
    "    except Exception as e:\n",
    "        print(\"Error Occurred with Driver!\")\n",
    "        print(e.msg)\n",
    "\n",
    "    # wait 5 seconds for page to load\n",
    "    time.sleep(5)\n",
    "    \n",
    "    # getting the 30 most recent videos\n",
    "    videos = driver.find_elements(by = By.CLASS_NAME, value = \"style-scope ytd-rich-item-renderer\")\n",
    "    \n",
    "    #creating a list\n",
    "    contents = []\n",
    "\n",
    "    # loop through each video and append title, views, age, and url link to\n",
    "    for video in videos:\n",
    "        title = video.find_element(by = By.XPATH,value = './/*[@id=\"video-title-link\"]').text\n",
    "        #views = video.find_element(by = By.XPATH,value = './/*[@id=\"metadata-line\"]/span[1]').text\n",
    "        #age  = video.find_element(by = By.XPATH,value = './/*[@id=\"metadata-line\"]/span[2]').text\n",
    "        url = video.find_element(by=By.XPATH, value='.//*[@id=\"video-title-link\"]').get_attribute('href')\n",
    "        \n",
    "        contents.append(\n",
    "            {\n",
    "            \"title\" : title,\n",
    "            \"url\" : url,\n",
    "            })\n",
    "\n",
    "# convert the list to a dataframe\n",
    "video_df = pd.DataFrame(contents)"
   ]
  },
  {
   "cell_type": "markdown",
   "metadata": {},
   "source": [
    "# Looking at the Video Data"
   ]
  },
  {
   "cell_type": "code",
   "execution_count": 7,
   "metadata": {},
   "outputs": [
    {
     "data": {
      "text/html": [
       "<div>\n",
       "<style scoped>\n",
       "    .dataframe tbody tr th:only-of-type {\n",
       "        vertical-align: middle;\n",
       "    }\n",
       "\n",
       "    .dataframe tbody tr th {\n",
       "        vertical-align: top;\n",
       "    }\n",
       "\n",
       "    .dataframe thead th {\n",
       "        text-align: right;\n",
       "    }\n",
       "</style>\n",
       "<table border=\"1\" class=\"dataframe\">\n",
       "  <thead>\n",
       "    <tr style=\"text-align: right;\">\n",
       "      <th></th>\n",
       "      <th>title</th>\n",
       "      <th>url</th>\n",
       "    </tr>\n",
       "  </thead>\n",
       "  <tbody>\n",
       "    <tr>\n",
       "      <th>0</th>\n",
       "      <td>THE END OF MINECRAFT: Episode 5 (The Finale!!!)</td>\n",
       "      <td>https://www.youtube.com/watch?v=GW2l7X7wdtw</td>\n",
       "    </tr>\n",
       "    <tr>\n",
       "      <th>1</th>\n",
       "      <td>Behind the Look of Minecraft Legends</td>\n",
       "      <td>https://www.youtube.com/watch?v=ufB4_jWNIzw</td>\n",
       "    </tr>\n",
       "    <tr>\n",
       "      <th>2</th>\n",
       "      <td>1.20 NAME REVEAL and more... | MINECRAFT MONTHLY</td>\n",
       "      <td>https://www.youtube.com/watch?v=jQ58UEXrFzs</td>\n",
       "    </tr>\n",
       "    <tr>\n",
       "      <th>3</th>\n",
       "      <td>Minecraft 1.20: New Blocks and Their Functions!</td>\n",
       "      <td>https://www.youtube.com/watch?v=vJCMpPyaN8Q</td>\n",
       "    </tr>\n",
       "    <tr>\n",
       "      <th>4</th>\n",
       "      <td>Minecraft x Mega Man X DLC</td>\n",
       "      <td>https://www.youtube.com/watch?v=IUWRK0Jy9d0</td>\n",
       "    </tr>\n",
       "    <tr>\n",
       "      <th>5</th>\n",
       "      <td>Minecraft 1.20: Early Look at Archeology</td>\n",
       "      <td>https://www.youtube.com/watch?v=UHI4ufMSLpI</td>\n",
       "    </tr>\n",
       "    <tr>\n",
       "      <th>6</th>\n",
       "      <td>Minecraft 1.20: Early Look at the Cherry Bloss...</td>\n",
       "      <td>https://www.youtube.com/watch?v=0UB682mwFiA</td>\n",
       "    </tr>\n",
       "    <tr>\n",
       "      <th>7</th>\n",
       "      <td>Minecraft 1.20: Early Look at the Sniffer</td>\n",
       "      <td>https://www.youtube.com/watch?v=231fwKCvA54</td>\n",
       "    </tr>\n",
       "    <tr>\n",
       "      <th>8</th>\n",
       "      <td>How Does CHAOS Sound? | Minecraft Legends</td>\n",
       "      <td>https://www.youtube.com/watch?v=CPD0CVbDz4U</td>\n",
       "    </tr>\n",
       "    <tr>\n",
       "      <th>9</th>\n",
       "      <td>MONSTERS OF MINECRAFT: Episode 4</td>\n",
       "      <td>https://www.youtube.com/watch?v=4ZsbkMrSeq0</td>\n",
       "    </tr>\n",
       "  </tbody>\n",
       "</table>\n",
       "</div>"
      ],
      "text/plain": [
       "                                               title  \\\n",
       "0    THE END OF MINECRAFT: Episode 5 (The Finale!!!)   \n",
       "1               Behind the Look of Minecraft Legends   \n",
       "2   1.20 NAME REVEAL and more... | MINECRAFT MONTHLY   \n",
       "3    Minecraft 1.20: New Blocks and Their Functions!   \n",
       "4                         Minecraft x Mega Man X DLC   \n",
       "5           Minecraft 1.20: Early Look at Archeology   \n",
       "6  Minecraft 1.20: Early Look at the Cherry Bloss...   \n",
       "7          Minecraft 1.20: Early Look at the Sniffer   \n",
       "8          How Does CHAOS Sound? | Minecraft Legends   \n",
       "9                   MONSTERS OF MINECRAFT: Episode 4   \n",
       "\n",
       "                                           url  \n",
       "0  https://www.youtube.com/watch?v=GW2l7X7wdtw  \n",
       "1  https://www.youtube.com/watch?v=ufB4_jWNIzw  \n",
       "2  https://www.youtube.com/watch?v=jQ58UEXrFzs  \n",
       "3  https://www.youtube.com/watch?v=vJCMpPyaN8Q  \n",
       "4  https://www.youtube.com/watch?v=IUWRK0Jy9d0  \n",
       "5  https://www.youtube.com/watch?v=UHI4ufMSLpI  \n",
       "6  https://www.youtube.com/watch?v=0UB682mwFiA  \n",
       "7  https://www.youtube.com/watch?v=231fwKCvA54  \n",
       "8  https://www.youtube.com/watch?v=CPD0CVbDz4U  \n",
       "9  https://www.youtube.com/watch?v=4ZsbkMrSeq0  "
      ]
     },
     "execution_count": 7,
     "metadata": {},
     "output_type": "execute_result"
    }
   ],
   "source": [
    "video_df.head(10)"
   ]
  },
  {
   "cell_type": "code",
   "execution_count": 8,
   "metadata": {},
   "outputs": [
    {
     "data": {
      "text/html": [
       "<div>\n",
       "<style scoped>\n",
       "    .dataframe tbody tr th:only-of-type {\n",
       "        vertical-align: middle;\n",
       "    }\n",
       "\n",
       "    .dataframe tbody tr th {\n",
       "        vertical-align: top;\n",
       "    }\n",
       "\n",
       "    .dataframe thead th {\n",
       "        text-align: right;\n",
       "    }\n",
       "</style>\n",
       "<table border=\"1\" class=\"dataframe\">\n",
       "  <thead>\n",
       "    <tr style=\"text-align: right;\">\n",
       "      <th></th>\n",
       "      <th>title</th>\n",
       "      <th>url</th>\n",
       "    </tr>\n",
       "  </thead>\n",
       "  <tbody>\n",
       "    <tr>\n",
       "      <th>25</th>\n",
       "      <td>The History of Minecraft Skins</td>\n",
       "      <td>https://www.youtube.com/watch?v=qIrmhRHuW08</td>\n",
       "    </tr>\n",
       "    <tr>\n",
       "      <th>26</th>\n",
       "      <td>Introducing New Default Skins!</td>\n",
       "      <td>https://www.youtube.com/watch?v=oXKVfLTrdBM</td>\n",
       "    </tr>\n",
       "    <tr>\n",
       "      <th>27</th>\n",
       "      <td>Minecraft Legends: The Chaotic Fun of PvP</td>\n",
       "      <td>https://www.youtube.com/watch?v=veGnyMg1q9s</td>\n",
       "    </tr>\n",
       "    <tr>\n",
       "      <th>28</th>\n",
       "      <td>Around the Minecraft World in 80 Biomes: Episo...</td>\n",
       "      <td>https://www.youtube.com/watch?v=Rn0KNAi1BsY</td>\n",
       "    </tr>\n",
       "    <tr>\n",
       "      <th>29</th>\n",
       "      <td>Minecraft Mangroves: Making an Impact</td>\n",
       "      <td>https://www.youtube.com/watch?v=ErCguIRd6-U</td>\n",
       "    </tr>\n",
       "  </tbody>\n",
       "</table>\n",
       "</div>"
      ],
      "text/plain": [
       "                                                title  \\\n",
       "25                     The History of Minecraft Skins   \n",
       "26                     Introducing New Default Skins!   \n",
       "27          Minecraft Legends: The Chaotic Fun of PvP   \n",
       "28  Around the Minecraft World in 80 Biomes: Episo...   \n",
       "29              Minecraft Mangroves: Making an Impact   \n",
       "\n",
       "                                            url  \n",
       "25  https://www.youtube.com/watch?v=qIrmhRHuW08  \n",
       "26  https://www.youtube.com/watch?v=oXKVfLTrdBM  \n",
       "27  https://www.youtube.com/watch?v=veGnyMg1q9s  \n",
       "28  https://www.youtube.com/watch?v=Rn0KNAi1BsY  \n",
       "29  https://www.youtube.com/watch?v=ErCguIRd6-U  "
      ]
     },
     "execution_count": 8,
     "metadata": {},
     "output_type": "execute_result"
    }
   ],
   "source": [
    "video_df.tail()"
   ]
  },
  {
   "cell_type": "markdown",
   "metadata": {},
   "source": [
    "# Only Looking at Comments of 3 Videos for Demo"
   ]
  },
  {
   "cell_type": "code",
   "execution_count": 9,
   "metadata": {},
   "outputs": [],
   "source": [
    "video_df = video_df.head(10)"
   ]
  },
  {
   "cell_type": "code",
   "execution_count": 10,
   "metadata": {},
   "outputs": [
    {
     "data": {
      "text/html": [
       "<div>\n",
       "<style scoped>\n",
       "    .dataframe tbody tr th:only-of-type {\n",
       "        vertical-align: middle;\n",
       "    }\n",
       "\n",
       "    .dataframe tbody tr th {\n",
       "        vertical-align: top;\n",
       "    }\n",
       "\n",
       "    .dataframe thead th {\n",
       "        text-align: right;\n",
       "    }\n",
       "</style>\n",
       "<table border=\"1\" class=\"dataframe\">\n",
       "  <thead>\n",
       "    <tr style=\"text-align: right;\">\n",
       "      <th></th>\n",
       "      <th>title</th>\n",
       "      <th>url</th>\n",
       "    </tr>\n",
       "  </thead>\n",
       "  <tbody>\n",
       "    <tr>\n",
       "      <th>0</th>\n",
       "      <td>THE END OF MINECRAFT: Episode 5 (The Finale!!!)</td>\n",
       "      <td>https://www.youtube.com/watch?v=GW2l7X7wdtw</td>\n",
       "    </tr>\n",
       "    <tr>\n",
       "      <th>1</th>\n",
       "      <td>Behind the Look of Minecraft Legends</td>\n",
       "      <td>https://www.youtube.com/watch?v=ufB4_jWNIzw</td>\n",
       "    </tr>\n",
       "    <tr>\n",
       "      <th>2</th>\n",
       "      <td>1.20 NAME REVEAL and more... | MINECRAFT MONTHLY</td>\n",
       "      <td>https://www.youtube.com/watch?v=jQ58UEXrFzs</td>\n",
       "    </tr>\n",
       "    <tr>\n",
       "      <th>3</th>\n",
       "      <td>Minecraft 1.20: New Blocks and Their Functions!</td>\n",
       "      <td>https://www.youtube.com/watch?v=vJCMpPyaN8Q</td>\n",
       "    </tr>\n",
       "    <tr>\n",
       "      <th>4</th>\n",
       "      <td>Minecraft x Mega Man X DLC</td>\n",
       "      <td>https://www.youtube.com/watch?v=IUWRK0Jy9d0</td>\n",
       "    </tr>\n",
       "    <tr>\n",
       "      <th>5</th>\n",
       "      <td>Minecraft 1.20: Early Look at Archeology</td>\n",
       "      <td>https://www.youtube.com/watch?v=UHI4ufMSLpI</td>\n",
       "    </tr>\n",
       "    <tr>\n",
       "      <th>6</th>\n",
       "      <td>Minecraft 1.20: Early Look at the Cherry Bloss...</td>\n",
       "      <td>https://www.youtube.com/watch?v=0UB682mwFiA</td>\n",
       "    </tr>\n",
       "    <tr>\n",
       "      <th>7</th>\n",
       "      <td>Minecraft 1.20: Early Look at the Sniffer</td>\n",
       "      <td>https://www.youtube.com/watch?v=231fwKCvA54</td>\n",
       "    </tr>\n",
       "    <tr>\n",
       "      <th>8</th>\n",
       "      <td>How Does CHAOS Sound? | Minecraft Legends</td>\n",
       "      <td>https://www.youtube.com/watch?v=CPD0CVbDz4U</td>\n",
       "    </tr>\n",
       "    <tr>\n",
       "      <th>9</th>\n",
       "      <td>MONSTERS OF MINECRAFT: Episode 4</td>\n",
       "      <td>https://www.youtube.com/watch?v=4ZsbkMrSeq0</td>\n",
       "    </tr>\n",
       "  </tbody>\n",
       "</table>\n",
       "</div>"
      ],
      "text/plain": [
       "                                               title  \\\n",
       "0    THE END OF MINECRAFT: Episode 5 (The Finale!!!)   \n",
       "1               Behind the Look of Minecraft Legends   \n",
       "2   1.20 NAME REVEAL and more... | MINECRAFT MONTHLY   \n",
       "3    Minecraft 1.20: New Blocks and Their Functions!   \n",
       "4                         Minecraft x Mega Man X DLC   \n",
       "5           Minecraft 1.20: Early Look at Archeology   \n",
       "6  Minecraft 1.20: Early Look at the Cherry Bloss...   \n",
       "7          Minecraft 1.20: Early Look at the Sniffer   \n",
       "8          How Does CHAOS Sound? | Minecraft Legends   \n",
       "9                   MONSTERS OF MINECRAFT: Episode 4   \n",
       "\n",
       "                                           url  \n",
       "0  https://www.youtube.com/watch?v=GW2l7X7wdtw  \n",
       "1  https://www.youtube.com/watch?v=ufB4_jWNIzw  \n",
       "2  https://www.youtube.com/watch?v=jQ58UEXrFzs  \n",
       "3  https://www.youtube.com/watch?v=vJCMpPyaN8Q  \n",
       "4  https://www.youtube.com/watch?v=IUWRK0Jy9d0  \n",
       "5  https://www.youtube.com/watch?v=UHI4ufMSLpI  \n",
       "6  https://www.youtube.com/watch?v=0UB682mwFiA  \n",
       "7  https://www.youtube.com/watch?v=231fwKCvA54  \n",
       "8  https://www.youtube.com/watch?v=CPD0CVbDz4U  \n",
       "9  https://www.youtube.com/watch?v=4ZsbkMrSeq0  "
      ]
     },
     "execution_count": 10,
     "metadata": {},
     "output_type": "execute_result"
    }
   ],
   "source": [
    "video_df"
   ]
  },
  {
   "cell_type": "markdown",
   "metadata": {},
   "source": [
    "# Scraping Comments of Each Video"
   ]
  },
  {
   "cell_type": "code",
   "execution_count": 11,
   "metadata": {},
   "outputs": [
    {
     "name": "stderr",
     "output_type": "stream",
     "text": [
      "/var/folders/y9/q82qsl6x2n9gqqmjjm5_8m1w0000gn/T/ipykernel_8356/851694637.py:14: DeprecationWarning: executable_path has been deprecated, please pass in a Service object\n",
      "  with Chrome(executable_path=path, options=chrome_options) as driver:\n",
      "/var/folders/y9/q82qsl6x2n9gqqmjjm5_8m1w0000gn/T/ipykernel_8356/851694637.py:14: DeprecationWarning: executable_path has been deprecated, please pass in a Service object\n",
      "  with Chrome(executable_path=path, options=chrome_options) as driver:\n",
      "/var/folders/y9/q82qsl6x2n9gqqmjjm5_8m1w0000gn/T/ipykernel_8356/851694637.py:14: DeprecationWarning: executable_path has been deprecated, please pass in a Service object\n",
      "  with Chrome(executable_path=path, options=chrome_options) as driver:\n",
      "/var/folders/y9/q82qsl6x2n9gqqmjjm5_8m1w0000gn/T/ipykernel_8356/851694637.py:14: DeprecationWarning: executable_path has been deprecated, please pass in a Service object\n",
      "  with Chrome(executable_path=path, options=chrome_options) as driver:\n",
      "/var/folders/y9/q82qsl6x2n9gqqmjjm5_8m1w0000gn/T/ipykernel_8356/851694637.py:14: DeprecationWarning: executable_path has been deprecated, please pass in a Service object\n",
      "  with Chrome(executable_path=path, options=chrome_options) as driver:\n",
      "/var/folders/y9/q82qsl6x2n9gqqmjjm5_8m1w0000gn/T/ipykernel_8356/851694637.py:14: DeprecationWarning: executable_path has been deprecated, please pass in a Service object\n",
      "  with Chrome(executable_path=path, options=chrome_options) as driver:\n",
      "/var/folders/y9/q82qsl6x2n9gqqmjjm5_8m1w0000gn/T/ipykernel_8356/851694637.py:14: DeprecationWarning: executable_path has been deprecated, please pass in a Service object\n",
      "  with Chrome(executable_path=path, options=chrome_options) as driver:\n",
      "/var/folders/y9/q82qsl6x2n9gqqmjjm5_8m1w0000gn/T/ipykernel_8356/851694637.py:14: DeprecationWarning: executable_path has been deprecated, please pass in a Service object\n",
      "  with Chrome(executable_path=path, options=chrome_options) as driver:\n",
      "/var/folders/y9/q82qsl6x2n9gqqmjjm5_8m1w0000gn/T/ipykernel_8356/851694637.py:14: DeprecationWarning: executable_path has been deprecated, please pass in a Service object\n",
      "  with Chrome(executable_path=path, options=chrome_options) as driver:\n",
      "/var/folders/y9/q82qsl6x2n9gqqmjjm5_8m1w0000gn/T/ipykernel_8356/851694637.py:14: DeprecationWarning: executable_path has been deprecated, please pass in a Service object\n",
      "  with Chrome(executable_path=path, options=chrome_options) as driver:\n"
     ]
    }
   ],
   "source": [
    "# initializing all comments as a string\n",
    "video_df['views'] = ''\n",
    "video_df['date'] = ''\n",
    "video_df['comments'] = ''\n",
    "sql_df = ''\n",
    "\n",
    "# loop through the links of each video, gather the comments and append to a list, then add that list to the original dataframe\n",
    "for index, video in enumerate(video_df['url']):\n",
    "\n",
    "    # list of comments for each video\n",
    "    data = []\n",
    "\n",
    "    # open the chrome driver\n",
    "    with Chrome(executable_path=path, options=chrome_options) as driver:\n",
    "        wait = WebDriverWait(driver,20)\n",
    "\n",
    "        # access the video link\n",
    "        try:   \n",
    "            driver.get(video)\n",
    "        except Exception as e:\n",
    "            print(\"Error Occurred with Driver!\")\n",
    "            print(e.msg)\n",
    "\n",
    "        time.sleep(10)\n",
    "        wait.until(EC.visibility_of_element_located((By.XPATH, '//*[@id=\"dismiss-button\"]'))).click()\n",
    "\n",
    "        time.sleep(10)\n",
    "        wait.until(EC.visibility_of_element_located((By.XPATH, '//*[@id=\"bottom-row\"]'))).click()\n",
    "\n",
    "        time.sleep(10)\n",
    "        views = driver.find_element(By.XPATH, '//*[@id=\"info\"]/span[1]').text\n",
    "        date = driver.find_element(By.XPATH, '//*[@id=\"info\"]/span[3]').text\n",
    "\n",
    "        time.sleep(10)\n",
    "        # presses the \"end\" key 400 times to get access to more comments\n",
    "        for item in range(500): \n",
    "            wait.until(EC.visibility_of_element_located((By.TAG_NAME, \"body\"))).send_keys(Keys.END)\n",
    "\n",
    "\n",
    "        # appending all the comments to data\n",
    "        time.sleep(10)\n",
    "        for comment in wait.until(EC.presence_of_all_elements_located((By.CSS_SELECTOR, \"#content\"))):\n",
    "            data.append(comment.text)\n",
    "\n",
    "    # adding views and date\n",
    "    video_df['views'][index] = int(views.split()[0].replace(\",\", \"\"))\n",
    "    video_df['date'][index] = date\n",
    "       \n",
    "    # converting list of comments to a dataframe, then appending it to original dataframe\n",
    "    comment_df = pd.DataFrame(data, columns=['comment'])\n",
    "    comment_df = comment_df.replace('', np.NaN)\n",
    "    comment_df = comment_df.dropna()\n",
    "    comment_df = comment_df[1:]\n",
    "    comment_df = comment_df.reset_index(drop=True)\n",
    "    comment_list = comment_df.values.tolist()\n",
    "    comment_list = [item[0] for item in comment_list]\n",
    "    video_df['comments'][index] = comment_list\n",
    "\n",
    "    # creating seperate clean df to move comments to sql table\n",
    "    temp_sql = pd.DataFrame(comment_list, columns=['comment'])\n",
    "    temp_sql['video_id'] = index\n",
    "    # skip first index\n",
    "    if index == 0:\n",
    "        sql_df = temp_sql\n",
    "    else:\n",
    "        sql_df = pd.concat([sql_df,temp_sql])"
   ]
  },
  {
   "cell_type": "markdown",
   "metadata": {},
   "source": [
    "# Looking at the final dataframe and how many comments were retrieved"
   ]
  },
  {
   "cell_type": "code",
   "execution_count": 12,
   "metadata": {},
   "outputs": [
    {
     "name": "stdout",
     "output_type": "stream",
     "text": [
      "Video Number 0 -->  538\n",
      "Video Number 1 -->  659\n",
      "Video Number 2 -->  500\n",
      "Video Number 3 -->  520\n",
      "Video Number 4 -->  618\n",
      "Video Number 5 -->  465\n",
      "Video Number 6 -->  580\n",
      "Video Number 7 -->  580\n",
      "Video Number 8 -->  457\n",
      "Video Number 9 -->  520\n"
     ]
    }
   ],
   "source": [
    "for i in range(len(video_df)):\n",
    "    print(f'Video Number {i} --> ',len(video_df['comments'][i]))"
   ]
  },
  {
   "cell_type": "code",
   "execution_count": 13,
   "metadata": {},
   "outputs": [
    {
     "data": {
      "text/plain": [
       "(10, 5)"
      ]
     },
     "execution_count": 13,
     "metadata": {},
     "output_type": "execute_result"
    }
   ],
   "source": [
    "video_df.shape"
   ]
  },
  {
   "cell_type": "code",
   "execution_count": 14,
   "metadata": {},
   "outputs": [
    {
     "data": {
      "text/plain": [
       "title       object\n",
       "url         object\n",
       "views        int64\n",
       "date        object\n",
       "comments    object\n",
       "dtype: object"
      ]
     },
     "execution_count": 14,
     "metadata": {},
     "output_type": "execute_result"
    }
   ],
   "source": [
    "video_df['views'] = video_df['views'].astype(int)\n",
    "video_df.dtypes"
   ]
  },
  {
   "cell_type": "code",
   "execution_count": 15,
   "metadata": {},
   "outputs": [
    {
     "data": {
      "text/html": [
       "<div>\n",
       "<style scoped>\n",
       "    .dataframe tbody tr th:only-of-type {\n",
       "        vertical-align: middle;\n",
       "    }\n",
       "\n",
       "    .dataframe tbody tr th {\n",
       "        vertical-align: top;\n",
       "    }\n",
       "\n",
       "    .dataframe thead th {\n",
       "        text-align: right;\n",
       "    }\n",
       "</style>\n",
       "<table border=\"1\" class=\"dataframe\">\n",
       "  <thead>\n",
       "    <tr style=\"text-align: right;\">\n",
       "      <th></th>\n",
       "      <th>title</th>\n",
       "      <th>url</th>\n",
       "      <th>views</th>\n",
       "      <th>date</th>\n",
       "      <th>comments</th>\n",
       "    </tr>\n",
       "  </thead>\n",
       "  <tbody>\n",
       "    <tr>\n",
       "      <th>0</th>\n",
       "      <td>THE END OF MINECRAFT: Episode 5 (The Finale!!!)</td>\n",
       "      <td>https://www.youtube.com/watch?v=GW2l7X7wdtw</td>\n",
       "      <td>277625</td>\n",
       "      <td>Mar 17, 2023</td>\n",
       "      <td>[I kinda hope they actually turn Minecraft int...</td>\n",
       "    </tr>\n",
       "    <tr>\n",
       "      <th>1</th>\n",
       "      <td>Behind the Look of Minecraft Legends</td>\n",
       "      <td>https://www.youtube.com/watch?v=ufB4_jWNIzw</td>\n",
       "      <td>177570</td>\n",
       "      <td>Mar 10, 2023</td>\n",
       "      <td>[Amazed that every mountain and tree was made ...</td>\n",
       "    </tr>\n",
       "    <tr>\n",
       "      <th>2</th>\n",
       "      <td>1.20 NAME REVEAL and more... | MINECRAFT MONTHLY</td>\n",
       "      <td>https://www.youtube.com/watch?v=jQ58UEXrFzs</td>\n",
       "      <td>1591969</td>\n",
       "      <td>Mar 2, 2023</td>\n",
       "      <td>[this is beautiful but we will never forget mi...</td>\n",
       "    </tr>\n",
       "    <tr>\n",
       "      <th>3</th>\n",
       "      <td>Minecraft 1.20: New Blocks and Their Functions!</td>\n",
       "      <td>https://www.youtube.com/watch?v=vJCMpPyaN8Q</td>\n",
       "      <td>1149451</td>\n",
       "      <td>Feb 24, 2023</td>\n",
       "      <td>[It's so wholesome hearing the developers talk...</td>\n",
       "    </tr>\n",
       "    <tr>\n",
       "      <th>4</th>\n",
       "      <td>Minecraft x Mega Man X DLC</td>\n",
       "      <td>https://www.youtube.com/watch?v=IUWRK0Jy9d0</td>\n",
       "      <td>525413</td>\n",
       "      <td>Feb 21, 2023</td>\n",
       "      <td>[Now if only Capcom would support the series i...</td>\n",
       "    </tr>\n",
       "  </tbody>\n",
       "</table>\n",
       "</div>"
      ],
      "text/plain": [
       "                                              title  \\\n",
       "0   THE END OF MINECRAFT: Episode 5 (The Finale!!!)   \n",
       "1              Behind the Look of Minecraft Legends   \n",
       "2  1.20 NAME REVEAL and more... | MINECRAFT MONTHLY   \n",
       "3   Minecraft 1.20: New Blocks and Their Functions!   \n",
       "4                        Minecraft x Mega Man X DLC   \n",
       "\n",
       "                                           url    views          date  \\\n",
       "0  https://www.youtube.com/watch?v=GW2l7X7wdtw   277625  Mar 17, 2023   \n",
       "1  https://www.youtube.com/watch?v=ufB4_jWNIzw   177570  Mar 10, 2023   \n",
       "2  https://www.youtube.com/watch?v=jQ58UEXrFzs  1591969   Mar 2, 2023   \n",
       "3  https://www.youtube.com/watch?v=vJCMpPyaN8Q  1149451  Feb 24, 2023   \n",
       "4  https://www.youtube.com/watch?v=IUWRK0Jy9d0   525413  Feb 21, 2023   \n",
       "\n",
       "                                            comments  \n",
       "0  [I kinda hope they actually turn Minecraft int...  \n",
       "1  [Amazed that every mountain and tree was made ...  \n",
       "2  [this is beautiful but we will never forget mi...  \n",
       "3  [It's so wholesome hearing the developers talk...  \n",
       "4  [Now if only Capcom would support the series i...  "
      ]
     },
     "execution_count": 15,
     "metadata": {},
     "output_type": "execute_result"
    }
   ],
   "source": [
    "video_df.head()"
   ]
  },
  {
   "cell_type": "markdown",
   "metadata": {},
   "source": [
    "## Looking at the Top 10 Comments for the first video"
   ]
  },
  {
   "cell_type": "code",
   "execution_count": 21,
   "metadata": {},
   "outputs": [
    {
     "name": "stdout",
     "output_type": "stream",
     "text": [
      "comment 0 -->  I kinda hope they actually turn Minecraft into mobbocraft for April fools this year\n",
      "comment 1 -->  “At least prison food will remind me of British Cuisine”\n",
      "\n",
      "Maximum emotional damage \n",
      "comment 2 -->  1000 mine coins to finish the game, that actually sounds like something the marketplace would have\n",
      "comment 3 -->  Whoever writes these deserves a raise. Not every day that what is essentially an advertisement makes me laugh this hard.\n",
      "comment 4 -->  I feel like this year April fool update is going to be Mobbocraft \n",
      "comment 5 -->  RIP Mobbo, He will be remembered forever ! \n",
      "comment 6 -->  Can't wait to see this series at the Oscars this year!\n",
      "comment 7 -->  Marrila: \"What are you in for?\"\n",
      "\n",
      "Allay: \"Tax Evasion\"\n",
      "comment 8 -->  Why is this the end? There’s 75 biomes left, judging by one per episode. They did some more in the end, but its still missing most of the biomes\n",
      "Edit: was not expecting this to explode\n",
      "comment 9 -->  The only thing we need is a Mobbocraft April Fool's joke--\n"
     ]
    }
   ],
   "source": [
    "for i in range(10):\n",
    "    print(f'comment {i} --> ',video_df['comments'][0][i])"
   ]
  },
  {
   "attachments": {},
   "cell_type": "markdown",
   "metadata": {},
   "source": [
    "## Appending Video Details to SQL Video Table"
   ]
  },
  {
   "cell_type": "code",
   "execution_count": 17,
   "metadata": {},
   "outputs": [],
   "source": [
    "conn = sqlite3.connect('minecraft.db')\n",
    "cursor = conn.cursor()\n",
    "for i, row in video_df.iterrows():\n",
    "    conn.execute(f'''\n",
    "        INSERT INTO videos (video_id, title, url, views, date)\n",
    "        VALUES ({i}, '{row['title']}', '{row['url']}', {row['views']}, '{row['date']}')\n",
    "    ''')\n",
    "\n",
    "conn.commit()\n",
    "conn.close()"
   ]
  },
  {
   "attachments": {},
   "cell_type": "markdown",
   "metadata": {},
   "source": [
    "## Appending Comments to SQL Comment Table"
   ]
  },
  {
   "cell_type": "code",
   "execution_count": 18,
   "metadata": {},
   "outputs": [],
   "source": [
    "sql_df = sql_df.reset_index(drop=True)\n",
    "\n",
    "conn = sqlite3.connect('minecraft.db')\n",
    "cursor = conn.cursor()\n",
    "\n",
    "for i, row in sql_df.iterrows():\n",
    "    comment = row[\"comment\"].replace('\"', '\"\"')\n",
    "    cursor.execute(\"\"\"\n",
    "        INSERT INTO comment (comment_id, comment, video_id)\n",
    "        VALUES (?, ?, ?)\n",
    "    \"\"\", (i, comment, row[\"video_id\"]))\n",
    "\n",
    "conn.commit()\n",
    "conn.close()"
   ]
  },
  {
   "attachments": {},
   "cell_type": "markdown",
   "metadata": {},
   "source": [
    "## Test SQL Tables"
   ]
  },
  {
   "cell_type": "code",
   "execution_count": 19,
   "metadata": {},
   "outputs": [
    {
     "name": "stdout",
     "output_type": "stream",
     "text": [
      "(0, 'THE END OF MINECRAFT: Episode 5 (The Finale!!!)', 'https://www.youtube.com/watch?v=GW2l7X7wdtw', 277625, 'Mar 17, 2023')\n",
      "(1, 'Behind the Look of Minecraft Legends', 'https://www.youtube.com/watch?v=ufB4_jWNIzw', 177570, 'Mar 10, 2023')\n",
      "(2, '1.20 NAME REVEAL and more... | MINECRAFT MONTHLY', 'https://www.youtube.com/watch?v=jQ58UEXrFzs', 1591969, 'Mar 2, 2023')\n"
     ]
    }
   ],
   "source": [
    "conn = sqlite3.connect('minecraft.db')\n",
    "\n",
    "cur = conn.cursor()\n",
    "cur.execute(\"SELECT * FROM videos LIMIT 3\")\n",
    "\n",
    "rows = cur.fetchall()\n",
    "\n",
    "for row in rows:\n",
    "    print(row)"
   ]
  },
  {
   "cell_type": "code",
   "execution_count": 20,
   "metadata": {},
   "outputs": [
    {
     "name": "stdout",
     "output_type": "stream",
     "text": [
      "(0, 'I kinda hope they actually turn Minecraft into mobbocraft for April fools this year', 0)\n",
      "(1, '“At least prison food will remind me of British Cuisine”\\n\\nMaximum emotional damage ', 0)\n",
      "(2, '1000 mine coins to finish the game, that actually sounds like something the marketplace would have', 0)\n"
     ]
    }
   ],
   "source": [
    "conn = sqlite3.connect('minecraft.db')\n",
    "\n",
    "cur = conn.cursor()\n",
    "cur.execute(\"SELECT * FROM comment LIMIT 3\")\n",
    "\n",
    "rows = cur.fetchall()\n",
    "\n",
    "for row in rows:\n",
    "    print(row)"
   ]
  }
 ],
 "metadata": {
  "kernelspec": {
   "display_name": "Python 3 (ipykernel)",
   "language": "python",
   "name": "python3"
  },
  "language_info": {
   "codemirror_mode": {
    "name": "ipython",
    "version": 3
   },
   "file_extension": ".py",
   "mimetype": "text/x-python",
   "name": "python",
   "nbconvert_exporter": "python",
   "pygments_lexer": "ipython3",
   "version": "3.10.1"
  },
  "vscode": {
   "interpreter": {
    "hash": "aee8b7b246df8f9039afb4144a1f6fd8d2ca17a180786b69acc140d282b71a49"
   }
  }
 },
 "nbformat": 4,
 "nbformat_minor": 4
}
